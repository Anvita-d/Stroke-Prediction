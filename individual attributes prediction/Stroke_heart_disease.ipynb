{
  "nbformat": 4,
  "nbformat_minor": 0,
  "metadata": {
    "colab": {
      "provenance": []
    },
    "kernelspec": {
      "name": "python3",
      "display_name": "Python 3"
    },
    "language_info": {
      "name": "python"
    }
  },
  "cells": [
    {
      "cell_type": "code",
      "execution_count": 1,
      "metadata": {
        "colab": {
          "base_uri": "https://localhost:8080/",
          "height": 73
        },
        "id": "1161Hb-bNQlX",
        "outputId": "312cfb3e-299c-4e87-ff69-885f191887d6"
      },
      "outputs": [
        {
          "output_type": "display_data",
          "data": {
            "text/plain": [
              "<IPython.core.display.HTML object>"
            ],
            "text/html": [
              "\n",
              "     <input type=\"file\" id=\"files-80661dbb-916f-4dd1-b322-7a8e9a4a01e7\" name=\"files[]\" multiple disabled\n",
              "        style=\"border:none\" />\n",
              "     <output id=\"result-80661dbb-916f-4dd1-b322-7a8e9a4a01e7\">\n",
              "      Upload widget is only available when the cell has been executed in the\n",
              "      current browser session. Please rerun this cell to enable.\n",
              "      </output>\n",
              "      <script>// Copyright 2017 Google LLC\n",
              "//\n",
              "// Licensed under the Apache License, Version 2.0 (the \"License\");\n",
              "// you may not use this file except in compliance with the License.\n",
              "// You may obtain a copy of the License at\n",
              "//\n",
              "//      http://www.apache.org/licenses/LICENSE-2.0\n",
              "//\n",
              "// Unless required by applicable law or agreed to in writing, software\n",
              "// distributed under the License is distributed on an \"AS IS\" BASIS,\n",
              "// WITHOUT WARRANTIES OR CONDITIONS OF ANY KIND, either express or implied.\n",
              "// See the License for the specific language governing permissions and\n",
              "// limitations under the License.\n",
              "\n",
              "/**\n",
              " * @fileoverview Helpers for google.colab Python module.\n",
              " */\n",
              "(function(scope) {\n",
              "function span(text, styleAttributes = {}) {\n",
              "  const element = document.createElement('span');\n",
              "  element.textContent = text;\n",
              "  for (const key of Object.keys(styleAttributes)) {\n",
              "    element.style[key] = styleAttributes[key];\n",
              "  }\n",
              "  return element;\n",
              "}\n",
              "\n",
              "// Max number of bytes which will be uploaded at a time.\n",
              "const MAX_PAYLOAD_SIZE = 100 * 1024;\n",
              "\n",
              "function _uploadFiles(inputId, outputId) {\n",
              "  const steps = uploadFilesStep(inputId, outputId);\n",
              "  const outputElement = document.getElementById(outputId);\n",
              "  // Cache steps on the outputElement to make it available for the next call\n",
              "  // to uploadFilesContinue from Python.\n",
              "  outputElement.steps = steps;\n",
              "\n",
              "  return _uploadFilesContinue(outputId);\n",
              "}\n",
              "\n",
              "// This is roughly an async generator (not supported in the browser yet),\n",
              "// where there are multiple asynchronous steps and the Python side is going\n",
              "// to poll for completion of each step.\n",
              "// This uses a Promise to block the python side on completion of each step,\n",
              "// then passes the result of the previous step as the input to the next step.\n",
              "function _uploadFilesContinue(outputId) {\n",
              "  const outputElement = document.getElementById(outputId);\n",
              "  const steps = outputElement.steps;\n",
              "\n",
              "  const next = steps.next(outputElement.lastPromiseValue);\n",
              "  return Promise.resolve(next.value.promise).then((value) => {\n",
              "    // Cache the last promise value to make it available to the next\n",
              "    // step of the generator.\n",
              "    outputElement.lastPromiseValue = value;\n",
              "    return next.value.response;\n",
              "  });\n",
              "}\n",
              "\n",
              "/**\n",
              " * Generator function which is called between each async step of the upload\n",
              " * process.\n",
              " * @param {string} inputId Element ID of the input file picker element.\n",
              " * @param {string} outputId Element ID of the output display.\n",
              " * @return {!Iterable<!Object>} Iterable of next steps.\n",
              " */\n",
              "function* uploadFilesStep(inputId, outputId) {\n",
              "  const inputElement = document.getElementById(inputId);\n",
              "  inputElement.disabled = false;\n",
              "\n",
              "  const outputElement = document.getElementById(outputId);\n",
              "  outputElement.innerHTML = '';\n",
              "\n",
              "  const pickedPromise = new Promise((resolve) => {\n",
              "    inputElement.addEventListener('change', (e) => {\n",
              "      resolve(e.target.files);\n",
              "    });\n",
              "  });\n",
              "\n",
              "  const cancel = document.createElement('button');\n",
              "  inputElement.parentElement.appendChild(cancel);\n",
              "  cancel.textContent = 'Cancel upload';\n",
              "  const cancelPromise = new Promise((resolve) => {\n",
              "    cancel.onclick = () => {\n",
              "      resolve(null);\n",
              "    };\n",
              "  });\n",
              "\n",
              "  // Wait for the user to pick the files.\n",
              "  const files = yield {\n",
              "    promise: Promise.race([pickedPromise, cancelPromise]),\n",
              "    response: {\n",
              "      action: 'starting',\n",
              "    }\n",
              "  };\n",
              "\n",
              "  cancel.remove();\n",
              "\n",
              "  // Disable the input element since further picks are not allowed.\n",
              "  inputElement.disabled = true;\n",
              "\n",
              "  if (!files) {\n",
              "    return {\n",
              "      response: {\n",
              "        action: 'complete',\n",
              "      }\n",
              "    };\n",
              "  }\n",
              "\n",
              "  for (const file of files) {\n",
              "    const li = document.createElement('li');\n",
              "    li.append(span(file.name, {fontWeight: 'bold'}));\n",
              "    li.append(span(\n",
              "        `(${file.type || 'n/a'}) - ${file.size} bytes, ` +\n",
              "        `last modified: ${\n",
              "            file.lastModifiedDate ? file.lastModifiedDate.toLocaleDateString() :\n",
              "                                    'n/a'} - `));\n",
              "    const percent = span('0% done');\n",
              "    li.appendChild(percent);\n",
              "\n",
              "    outputElement.appendChild(li);\n",
              "\n",
              "    const fileDataPromise = new Promise((resolve) => {\n",
              "      const reader = new FileReader();\n",
              "      reader.onload = (e) => {\n",
              "        resolve(e.target.result);\n",
              "      };\n",
              "      reader.readAsArrayBuffer(file);\n",
              "    });\n",
              "    // Wait for the data to be ready.\n",
              "    let fileData = yield {\n",
              "      promise: fileDataPromise,\n",
              "      response: {\n",
              "        action: 'continue',\n",
              "      }\n",
              "    };\n",
              "\n",
              "    // Use a chunked sending to avoid message size limits. See b/62115660.\n",
              "    let position = 0;\n",
              "    do {\n",
              "      const length = Math.min(fileData.byteLength - position, MAX_PAYLOAD_SIZE);\n",
              "      const chunk = new Uint8Array(fileData, position, length);\n",
              "      position += length;\n",
              "\n",
              "      const base64 = btoa(String.fromCharCode.apply(null, chunk));\n",
              "      yield {\n",
              "        response: {\n",
              "          action: 'append',\n",
              "          file: file.name,\n",
              "          data: base64,\n",
              "        },\n",
              "      };\n",
              "\n",
              "      let percentDone = fileData.byteLength === 0 ?\n",
              "          100 :\n",
              "          Math.round((position / fileData.byteLength) * 100);\n",
              "      percent.textContent = `${percentDone}% done`;\n",
              "\n",
              "    } while (position < fileData.byteLength);\n",
              "  }\n",
              "\n",
              "  // All done.\n",
              "  yield {\n",
              "    response: {\n",
              "      action: 'complete',\n",
              "    }\n",
              "  };\n",
              "}\n",
              "\n",
              "scope.google = scope.google || {};\n",
              "scope.google.colab = scope.google.colab || {};\n",
              "scope.google.colab._files = {\n",
              "  _uploadFiles,\n",
              "  _uploadFilesContinue,\n",
              "};\n",
              "})(self);\n",
              "</script> "
            ]
          },
          "metadata": {}
        },
        {
          "output_type": "stream",
          "name": "stdout",
          "text": [
            "Saving healthcare-dataset-stroke-data.csv to healthcare-dataset-stroke-data.csv\n"
          ]
        }
      ],
      "source": [
        "from google.colab import files\n",
        "uploaded = files.upload()"
      ]
    },
    {
      "cell_type": "code",
      "source": [
        "import pandas as pd\n",
        "df=pd.read_csv(\"healthcare-dataset-stroke-data.csv\")\n",
        "df"
      ],
      "metadata": {
        "colab": {
          "base_uri": "https://localhost:8080/",
          "height": 423
        },
        "id": "ZLfuS_TJRayg",
        "outputId": "48c15877-b0f0-43dd-8ebe-869f7a5ec581"
      },
      "execution_count": 2,
      "outputs": [
        {
          "output_type": "execute_result",
          "data": {
            "text/plain": [
              "         id  gender   age  hypertension  heart_disease ever_married  \\\n",
              "0      9046    Male  67.0             0              1          Yes   \n",
              "1     51676  Female  61.0             0              0          Yes   \n",
              "2     31112    Male  80.0             0              1          Yes   \n",
              "3     60182  Female  49.0             0              0          Yes   \n",
              "4      1665  Female  79.0             1              0          Yes   \n",
              "...     ...     ...   ...           ...            ...          ...   \n",
              "5105  18234  Female  80.0             1              0          Yes   \n",
              "5106  44873  Female  81.0             0              0          Yes   \n",
              "5107  19723  Female  35.0             0              0          Yes   \n",
              "5108  37544    Male  51.0             0              0          Yes   \n",
              "5109  44679  Female  44.0             0              0          Yes   \n",
              "\n",
              "          work_type Residence_type  avg_glucose_level   bmi   smoking_status  \\\n",
              "0           Private          Urban             228.69  36.6  formerly smoked   \n",
              "1     Self-employed          Rural             202.21   NaN     never smoked   \n",
              "2           Private          Rural             105.92  32.5     never smoked   \n",
              "3           Private          Urban             171.23  34.4           smokes   \n",
              "4     Self-employed          Rural             174.12  24.0     never smoked   \n",
              "...             ...            ...                ...   ...              ...   \n",
              "5105        Private          Urban              83.75   NaN     never smoked   \n",
              "5106  Self-employed          Urban             125.20  40.0     never smoked   \n",
              "5107  Self-employed          Rural              82.99  30.6     never smoked   \n",
              "5108        Private          Rural             166.29  25.6  formerly smoked   \n",
              "5109       Govt_job          Urban              85.28  26.2          Unknown   \n",
              "\n",
              "      stroke  \n",
              "0          1  \n",
              "1          1  \n",
              "2          1  \n",
              "3          1  \n",
              "4          1  \n",
              "...      ...  \n",
              "5105       0  \n",
              "5106       0  \n",
              "5107       0  \n",
              "5108       0  \n",
              "5109       0  \n",
              "\n",
              "[5110 rows x 12 columns]"
            ],
            "text/html": [
              "\n",
              "  <div id=\"df-50dc553d-6113-46b9-ad3b-941b77332a5e\">\n",
              "    <div class=\"colab-df-container\">\n",
              "      <div>\n",
              "<style scoped>\n",
              "    .dataframe tbody tr th:only-of-type {\n",
              "        vertical-align: middle;\n",
              "    }\n",
              "\n",
              "    .dataframe tbody tr th {\n",
              "        vertical-align: top;\n",
              "    }\n",
              "\n",
              "    .dataframe thead th {\n",
              "        text-align: right;\n",
              "    }\n",
              "</style>\n",
              "<table border=\"1\" class=\"dataframe\">\n",
              "  <thead>\n",
              "    <tr style=\"text-align: right;\">\n",
              "      <th></th>\n",
              "      <th>id</th>\n",
              "      <th>gender</th>\n",
              "      <th>age</th>\n",
              "      <th>hypertension</th>\n",
              "      <th>heart_disease</th>\n",
              "      <th>ever_married</th>\n",
              "      <th>work_type</th>\n",
              "      <th>Residence_type</th>\n",
              "      <th>avg_glucose_level</th>\n",
              "      <th>bmi</th>\n",
              "      <th>smoking_status</th>\n",
              "      <th>stroke</th>\n",
              "    </tr>\n",
              "  </thead>\n",
              "  <tbody>\n",
              "    <tr>\n",
              "      <th>0</th>\n",
              "      <td>9046</td>\n",
              "      <td>Male</td>\n",
              "      <td>67.0</td>\n",
              "      <td>0</td>\n",
              "      <td>1</td>\n",
              "      <td>Yes</td>\n",
              "      <td>Private</td>\n",
              "      <td>Urban</td>\n",
              "      <td>228.69</td>\n",
              "      <td>36.6</td>\n",
              "      <td>formerly smoked</td>\n",
              "      <td>1</td>\n",
              "    </tr>\n",
              "    <tr>\n",
              "      <th>1</th>\n",
              "      <td>51676</td>\n",
              "      <td>Female</td>\n",
              "      <td>61.0</td>\n",
              "      <td>0</td>\n",
              "      <td>0</td>\n",
              "      <td>Yes</td>\n",
              "      <td>Self-employed</td>\n",
              "      <td>Rural</td>\n",
              "      <td>202.21</td>\n",
              "      <td>NaN</td>\n",
              "      <td>never smoked</td>\n",
              "      <td>1</td>\n",
              "    </tr>\n",
              "    <tr>\n",
              "      <th>2</th>\n",
              "      <td>31112</td>\n",
              "      <td>Male</td>\n",
              "      <td>80.0</td>\n",
              "      <td>0</td>\n",
              "      <td>1</td>\n",
              "      <td>Yes</td>\n",
              "      <td>Private</td>\n",
              "      <td>Rural</td>\n",
              "      <td>105.92</td>\n",
              "      <td>32.5</td>\n",
              "      <td>never smoked</td>\n",
              "      <td>1</td>\n",
              "    </tr>\n",
              "    <tr>\n",
              "      <th>3</th>\n",
              "      <td>60182</td>\n",
              "      <td>Female</td>\n",
              "      <td>49.0</td>\n",
              "      <td>0</td>\n",
              "      <td>0</td>\n",
              "      <td>Yes</td>\n",
              "      <td>Private</td>\n",
              "      <td>Urban</td>\n",
              "      <td>171.23</td>\n",
              "      <td>34.4</td>\n",
              "      <td>smokes</td>\n",
              "      <td>1</td>\n",
              "    </tr>\n",
              "    <tr>\n",
              "      <th>4</th>\n",
              "      <td>1665</td>\n",
              "      <td>Female</td>\n",
              "      <td>79.0</td>\n",
              "      <td>1</td>\n",
              "      <td>0</td>\n",
              "      <td>Yes</td>\n",
              "      <td>Self-employed</td>\n",
              "      <td>Rural</td>\n",
              "      <td>174.12</td>\n",
              "      <td>24.0</td>\n",
              "      <td>never smoked</td>\n",
              "      <td>1</td>\n",
              "    </tr>\n",
              "    <tr>\n",
              "      <th>...</th>\n",
              "      <td>...</td>\n",
              "      <td>...</td>\n",
              "      <td>...</td>\n",
              "      <td>...</td>\n",
              "      <td>...</td>\n",
              "      <td>...</td>\n",
              "      <td>...</td>\n",
              "      <td>...</td>\n",
              "      <td>...</td>\n",
              "      <td>...</td>\n",
              "      <td>...</td>\n",
              "      <td>...</td>\n",
              "    </tr>\n",
              "    <tr>\n",
              "      <th>5105</th>\n",
              "      <td>18234</td>\n",
              "      <td>Female</td>\n",
              "      <td>80.0</td>\n",
              "      <td>1</td>\n",
              "      <td>0</td>\n",
              "      <td>Yes</td>\n",
              "      <td>Private</td>\n",
              "      <td>Urban</td>\n",
              "      <td>83.75</td>\n",
              "      <td>NaN</td>\n",
              "      <td>never smoked</td>\n",
              "      <td>0</td>\n",
              "    </tr>\n",
              "    <tr>\n",
              "      <th>5106</th>\n",
              "      <td>44873</td>\n",
              "      <td>Female</td>\n",
              "      <td>81.0</td>\n",
              "      <td>0</td>\n",
              "      <td>0</td>\n",
              "      <td>Yes</td>\n",
              "      <td>Self-employed</td>\n",
              "      <td>Urban</td>\n",
              "      <td>125.20</td>\n",
              "      <td>40.0</td>\n",
              "      <td>never smoked</td>\n",
              "      <td>0</td>\n",
              "    </tr>\n",
              "    <tr>\n",
              "      <th>5107</th>\n",
              "      <td>19723</td>\n",
              "      <td>Female</td>\n",
              "      <td>35.0</td>\n",
              "      <td>0</td>\n",
              "      <td>0</td>\n",
              "      <td>Yes</td>\n",
              "      <td>Self-employed</td>\n",
              "      <td>Rural</td>\n",
              "      <td>82.99</td>\n",
              "      <td>30.6</td>\n",
              "      <td>never smoked</td>\n",
              "      <td>0</td>\n",
              "    </tr>\n",
              "    <tr>\n",
              "      <th>5108</th>\n",
              "      <td>37544</td>\n",
              "      <td>Male</td>\n",
              "      <td>51.0</td>\n",
              "      <td>0</td>\n",
              "      <td>0</td>\n",
              "      <td>Yes</td>\n",
              "      <td>Private</td>\n",
              "      <td>Rural</td>\n",
              "      <td>166.29</td>\n",
              "      <td>25.6</td>\n",
              "      <td>formerly smoked</td>\n",
              "      <td>0</td>\n",
              "    </tr>\n",
              "    <tr>\n",
              "      <th>5109</th>\n",
              "      <td>44679</td>\n",
              "      <td>Female</td>\n",
              "      <td>44.0</td>\n",
              "      <td>0</td>\n",
              "      <td>0</td>\n",
              "      <td>Yes</td>\n",
              "      <td>Govt_job</td>\n",
              "      <td>Urban</td>\n",
              "      <td>85.28</td>\n",
              "      <td>26.2</td>\n",
              "      <td>Unknown</td>\n",
              "      <td>0</td>\n",
              "    </tr>\n",
              "  </tbody>\n",
              "</table>\n",
              "<p>5110 rows × 12 columns</p>\n",
              "</div>\n",
              "      <button class=\"colab-df-convert\" onclick=\"convertToInteractive('df-50dc553d-6113-46b9-ad3b-941b77332a5e')\"\n",
              "              title=\"Convert this dataframe to an interactive table.\"\n",
              "              style=\"display:none;\">\n",
              "        \n",
              "  <svg xmlns=\"http://www.w3.org/2000/svg\" height=\"24px\"viewBox=\"0 0 24 24\"\n",
              "       width=\"24px\">\n",
              "    <path d=\"M0 0h24v24H0V0z\" fill=\"none\"/>\n",
              "    <path d=\"M18.56 5.44l.94 2.06.94-2.06 2.06-.94-2.06-.94-.94-2.06-.94 2.06-2.06.94zm-11 1L8.5 8.5l.94-2.06 2.06-.94-2.06-.94L8.5 2.5l-.94 2.06-2.06.94zm10 10l.94 2.06.94-2.06 2.06-.94-2.06-.94-.94-2.06-.94 2.06-2.06.94z\"/><path d=\"M17.41 7.96l-1.37-1.37c-.4-.4-.92-.59-1.43-.59-.52 0-1.04.2-1.43.59L10.3 9.45l-7.72 7.72c-.78.78-.78 2.05 0 2.83L4 21.41c.39.39.9.59 1.41.59.51 0 1.02-.2 1.41-.59l7.78-7.78 2.81-2.81c.8-.78.8-2.07 0-2.86zM5.41 20L4 18.59l7.72-7.72 1.47 1.35L5.41 20z\"/>\n",
              "  </svg>\n",
              "      </button>\n",
              "      \n",
              "  <style>\n",
              "    .colab-df-container {\n",
              "      display:flex;\n",
              "      flex-wrap:wrap;\n",
              "      gap: 12px;\n",
              "    }\n",
              "\n",
              "    .colab-df-convert {\n",
              "      background-color: #E8F0FE;\n",
              "      border: none;\n",
              "      border-radius: 50%;\n",
              "      cursor: pointer;\n",
              "      display: none;\n",
              "      fill: #1967D2;\n",
              "      height: 32px;\n",
              "      padding: 0 0 0 0;\n",
              "      width: 32px;\n",
              "    }\n",
              "\n",
              "    .colab-df-convert:hover {\n",
              "      background-color: #E2EBFA;\n",
              "      box-shadow: 0px 1px 2px rgba(60, 64, 67, 0.3), 0px 1px 3px 1px rgba(60, 64, 67, 0.15);\n",
              "      fill: #174EA6;\n",
              "    }\n",
              "\n",
              "    [theme=dark] .colab-df-convert {\n",
              "      background-color: #3B4455;\n",
              "      fill: #D2E3FC;\n",
              "    }\n",
              "\n",
              "    [theme=dark] .colab-df-convert:hover {\n",
              "      background-color: #434B5C;\n",
              "      box-shadow: 0px 1px 3px 1px rgba(0, 0, 0, 0.15);\n",
              "      filter: drop-shadow(0px 1px 2px rgba(0, 0, 0, 0.3));\n",
              "      fill: #FFFFFF;\n",
              "    }\n",
              "  </style>\n",
              "\n",
              "      <script>\n",
              "        const buttonEl =\n",
              "          document.querySelector('#df-50dc553d-6113-46b9-ad3b-941b77332a5e button.colab-df-convert');\n",
              "        buttonEl.style.display =\n",
              "          google.colab.kernel.accessAllowed ? 'block' : 'none';\n",
              "\n",
              "        async function convertToInteractive(key) {\n",
              "          const element = document.querySelector('#df-50dc553d-6113-46b9-ad3b-941b77332a5e');\n",
              "          const dataTable =\n",
              "            await google.colab.kernel.invokeFunction('convertToInteractive',\n",
              "                                                     [key], {});\n",
              "          if (!dataTable) return;\n",
              "\n",
              "          const docLinkHtml = 'Like what you see? Visit the ' +\n",
              "            '<a target=\"_blank\" href=https://colab.research.google.com/notebooks/data_table.ipynb>data table notebook</a>'\n",
              "            + ' to learn more about interactive tables.';\n",
              "          element.innerHTML = '';\n",
              "          dataTable['output_type'] = 'display_data';\n",
              "          await google.colab.output.renderOutput(dataTable, element);\n",
              "          const docLink = document.createElement('div');\n",
              "          docLink.innerHTML = docLinkHtml;\n",
              "          element.appendChild(docLink);\n",
              "        }\n",
              "      </script>\n",
              "    </div>\n",
              "  </div>\n",
              "  "
            ]
          },
          "metadata": {},
          "execution_count": 2
        }
      ]
    },
    {
      "cell_type": "code",
      "execution_count": 104,
      "metadata": {
        "id": "egmcHzkWYpio"
      },
      "outputs": [],
      "source": [
        "x=df.iloc[:,4].values\n",
        "y=df.iloc[:,11].values"
      ]
    },
    {
      "cell_type": "code",
      "execution_count": 105,
      "metadata": {
        "id": "n4V3mQSvY0PK"
      },
      "outputs": [],
      "source": [
        "from imblearn.over_sampling import SMOTE\n",
        "oversample=SMOTE()\n",
        "x,y=oversample.fit_resample(x.reshape(-1,1),y)"
      ]
    },
    {
      "cell_type": "code",
      "source": [
        "x.shape"
      ],
      "metadata": {
        "colab": {
          "base_uri": "https://localhost:8080/"
        },
        "id": "CdDRyWVWZRr_",
        "outputId": "2b672470-add0-4b78-b1ba-fbe6aa23ffae"
      },
      "execution_count": 106,
      "outputs": [
        {
          "output_type": "execute_result",
          "data": {
            "text/plain": [
              "(9722, 1)"
            ]
          },
          "metadata": {},
          "execution_count": 106
        }
      ]
    },
    {
      "cell_type": "code",
      "execution_count": 107,
      "metadata": {
        "id": "4VPQ69JBY3uh"
      },
      "outputs": [],
      "source": [
        "from sklearn.model_selection import train_test_split\n",
        "x_train,x_test,y_train,y_test=train_test_split(x,y,test_size=0.2,random_state=0)"
      ]
    },
    {
      "cell_type": "code",
      "execution_count": 108,
      "metadata": {
        "colab": {
          "base_uri": "https://localhost:8080/"
        },
        "id": "X_c44UBOY6u8",
        "outputId": "f18e79d5-4ba7-43f9-a642-c01f2f545fa5"
      },
      "outputs": [
        {
          "output_type": "execute_result",
          "data": {
            "text/plain": [
              "DecisionTreeClassifier()"
            ]
          },
          "metadata": {},
          "execution_count": 108
        }
      ],
      "source": [
        "#Decision tree\n",
        "from sklearn import tree\n",
        "classifier=tree.DecisionTreeClassifier()\n",
        "classifier.fit(x_train,y_train)"
      ]
    },
    {
      "cell_type": "code",
      "execution_count": 109,
      "metadata": {
        "id": "1QZFqy93Y9Sf"
      },
      "outputs": [],
      "source": [
        "pred=classifier.predict(x_test)"
      ]
    },
    {
      "cell_type": "code",
      "execution_count": 110,
      "metadata": {
        "colab": {
          "base_uri": "https://localhost:8080/"
        },
        "id": "U7siIn1KY__u",
        "outputId": "d29b95d6-4724-4d29-fdc8-37cd9b0a7ad4"
      },
      "outputs": [
        {
          "output_type": "execute_result",
          "data": {
            "text/plain": [
              "0.5778920308483291"
            ]
          },
          "metadata": {},
          "execution_count": 110
        }
      ],
      "source": [
        "from sklearn.metrics import accuracy_score\n",
        "accuracy_score(pred,y_test)"
      ]
    },
    {
      "cell_type": "code",
      "execution_count": 111,
      "metadata": {
        "colab": {
          "base_uri": "https://localhost:8080/"
        },
        "id": "VtMZZxoMZHQH",
        "outputId": "87b1361d-a285-48c4-debf-786a6fd1ef55"
      },
      "outputs": [
        {
          "output_type": "execute_result",
          "data": {
            "text/plain": [
              "array([[929,  44],\n",
              "       [777, 195]])"
            ]
          },
          "metadata": {},
          "execution_count": 111
        }
      ],
      "source": [
        "from sklearn.metrics import confusion_matrix\n",
        "confusion_matrix(y_test,pred)"
      ]
    },
    {
      "cell_type": "code",
      "execution_count": 112,
      "metadata": {
        "colab": {
          "base_uri": "https://localhost:8080/"
        },
        "id": "mWBz8OSMZIED",
        "outputId": "a1431b64-659d-4596-b21b-29d9a83aaa6c"
      },
      "outputs": [
        {
          "output_type": "stream",
          "name": "stdout",
          "text": [
            "              precision    recall  f1-score   support\n",
            "\n",
            "           0       0.54      0.95      0.69       973\n",
            "           1       0.82      0.20      0.32       972\n",
            "\n",
            "    accuracy                           0.58      1945\n",
            "   macro avg       0.68      0.58      0.51      1945\n",
            "weighted avg       0.68      0.58      0.51      1945\n",
            "\n"
          ]
        }
      ],
      "source": [
        "from sklearn.metrics import classification_report\n",
        "targets=['0','1']\n",
        "print(classification_report(y_test,pred,target_names=targets))"
      ]
    },
    {
      "cell_type": "code",
      "execution_count": 113,
      "metadata": {
        "colab": {
          "base_uri": "https://localhost:8080/",
          "height": 279
        },
        "id": "YtgG7dpoZeSR",
        "outputId": "e5feb822-5d46-4184-dfd1-69b23cec8e4e"
      },
      "outputs": [
        {
          "output_type": "display_data",
          "data": {
            "text/plain": [
              "<Figure size 432x288 with 1 Axes>"
            ],
            "image/png": "[encoded data removed]"
          },
          "metadata": {
            "needs_background": "light"
          }
        }
      ],
      "source": [
        "import matplotlib.pyplot as plt\n",
        "import sklearn.metrics as metrics\n",
        "fpr, tpr, _ = metrics.roc_curve(y_test,pred)\n",
        "\n",
        "plt.plot(fpr,tpr)\n",
        "plt.ylabel('True Positive Rate')\n",
        "plt.xlabel('False Positive Rate')\n",
        "plt.show()"
      ]
    },
    {
      "cell_type": "code",
      "execution_count": 114,
      "metadata": {
        "colab": {
          "base_uri": "https://localhost:8080/",
          "height": 279
        },
        "id": "UodnxBsaZqJF",
        "outputId": "a3572a04-577f-4781-ef18-3c28f336f1af"
      },
      "outputs": [
        {
          "output_type": "display_data",
          "data": {
            "text/plain": [
              "<Figure size 432x288 with 1 Axes>"
            ],
            "image/png": "[encoded data removed]"
          },
          "metadata": {
            "needs_background": "light"
          }
        }
      ],
      "source": [
        "auc = metrics.roc_auc_score(y_test,pred)\n",
        "\n",
        "plt.plot(fpr,tpr,label=\"AUC=\"+str(auc))\n",
        "plt.ylabel('True Positive Rate')\n",
        "plt.xlabel('False Positive Rate')\n",
        "plt.legend(loc=4)\n",
        "plt.show()"
      ]
    },
    {
      "cell_type": "code",
      "execution_count": 115,
      "metadata": {
        "colab": {
          "base_uri": "https://localhost:8080/",
          "height": 279
        },
        "id": "osTOVK_JZvtg",
        "outputId": "89745d9c-68c1-4fa0-f443-1a3016d4c486"
      },
      "outputs": [
        {
          "output_type": "display_data",
          "data": {
            "text/plain": [
              "<Figure size 432x288 with 1 Axes>"
            ],
            "image/png": "[encoded data removed]"
          },
          "metadata": {
            "needs_background": "light"
          }
        }
      ],
      "source": [
        "from sklearn.metrics import (precision_recall_curve,PrecisionRecallDisplay)\n",
        "precision, recall, _ = precision_recall_curve(y_test, pred)\n",
        "disp = PrecisionRecallDisplay(precision=precision, recall=recall)\n",
        "disp.plot()\n",
        "plt.show()"
      ]
    },
    {
      "cell_type": "code",
      "execution_count": 116,
      "metadata": {
        "colab": {
          "base_uri": "https://localhost:8080/"
        },
        "id": "QEY_A3JPZyCV",
        "outputId": "ac568aec-d4ba-4f13-9612-aa9d49843c0d"
      },
      "outputs": [
        {
          "output_type": "execute_result",
          "data": {
            "text/plain": [
              "KNeighborsClassifier()"
            ]
          },
          "metadata": {},
          "execution_count": 116
        }
      ],
      "source": [
        "#knn\n",
        "from sklearn.neighbors import KNeighborsClassifier\n",
        "classifier=KNeighborsClassifier()\n",
        "classifier.fit(x_train,y_train)"
      ]
    },
    {
      "cell_type": "code",
      "execution_count": 117,
      "metadata": {
        "id": "POA35PF6aJUK"
      },
      "outputs": [],
      "source": [
        "pred=classifier.predict(x_test)"
      ]
    },
    {
      "cell_type": "code",
      "execution_count": 118,
      "metadata": {
        "colab": {
          "base_uri": "https://localhost:8080/"
        },
        "id": "NDq2wviiaLGy",
        "outputId": "6c2d07ff-c126-4777-a9ac-50b76f1d88b4"
      },
      "outputs": [
        {
          "output_type": "execute_result",
          "data": {
            "text/plain": [
              "0.5778920308483291"
            ]
          },
          "metadata": {},
          "execution_count": 118
        }
      ],
      "source": [
        "from sklearn.metrics import accuracy_score\n",
        "accuracy_score(pred,y_test)"
      ]
    },
    {
      "cell_type": "code",
      "execution_count": 119,
      "metadata": {
        "id": "M1wbnu4EaNJP",
        "colab": {
          "base_uri": "https://localhost:8080/"
        },
        "outputId": "0757866f-3e7e-4eec-ab9f-baeed1cdcc67"
      },
      "outputs": [
        {
          "output_type": "execute_result",
          "data": {
            "text/plain": [
              "array([[929,  44],\n",
              "       [777, 195]])"
            ]
          },
          "metadata": {},
          "execution_count": 119
        }
      ],
      "source": [
        "from sklearn.metrics import confusion_matrix\n",
        "confusion_matrix(y_test,pred)"
      ]
    },
    {
      "cell_type": "code",
      "execution_count": 120,
      "metadata": {
        "id": "XnQmla5OaYTI",
        "colab": {
          "base_uri": "https://localhost:8080/"
        },
        "outputId": "e9ca1661-3ff5-428f-ba01-bef0adb06f95"
      },
      "outputs": [
        {
          "output_type": "stream",
          "name": "stdout",
          "text": [
            "              precision    recall  f1-score   support\n",
            "\n",
            "           0       0.54      0.95      0.69       973\n",
            "           1       0.82      0.20      0.32       972\n",
            "\n",
            "    accuracy                           0.58      1945\n",
            "   macro avg       0.68      0.58      0.51      1945\n",
            "weighted avg       0.68      0.58      0.51      1945\n",
            "\n"
          ]
        }
      ],
      "source": [
        "from sklearn.metrics import classification_report\n",
        "targets=['0','1']\n",
        "print(classification_report(y_test,pred,target_names=targets))"
      ]
    },
    {
      "cell_type": "code",
      "execution_count": 121,
      "metadata": {
        "id": "Q8-22RxhaaVM",
        "colab": {
          "base_uri": "https://localhost:8080/",
          "height": 279
        },
        "outputId": "f3473e0b-d19c-4c2c-f47f-c5d39631ca37"
      },
      "outputs": [
        {
          "output_type": "display_data",
          "data": {
            "text/plain": [
              "<Figure size 432x288 with 1 Axes>"
            ],
            "image/png": "[encoded data removed]"
          },
          "metadata": {
            "needs_background": "light"
          }
        }
      ],
      "source": [
        "fpr, tpr, _ = metrics.roc_curve(y_test,pred)\n",
        "\n",
        "plt.plot(fpr,tpr)\n",
        "plt.ylabel('True Positive Rate')\n",
        "plt.xlabel('False Positive Rate')\n",
        "plt.show()"
      ]
    },
    {
      "cell_type": "code",
      "execution_count": 122,
      "metadata": {
        "id": "iCEnXwzracmJ",
        "colab": {
          "base_uri": "https://localhost:8080/",
          "height": 279
        },
        "outputId": "605ebad4-8601-4f10-e37e-edee0052c217"
      },
      "outputs": [
        {
          "output_type": "display_data",
          "data": {
            "text/plain": [
              "<Figure size 432x288 with 1 Axes>"
            ],
            "image/png": "[encoded data removed]"
          },
          "metadata": {
            "needs_background": "light"
          }
        }
      ],
      "source": [
        "auc = metrics.roc_auc_score(y_test,pred)\n",
        "\n",
        "plt.plot(fpr,tpr,label=\"AUC=\"+str(auc))\n",
        "plt.ylabel('True Positive Rate')\n",
        "plt.xlabel('False Positive Rate')\n",
        "plt.legend(loc=4)\n",
        "plt.show()"
      ]
    },
    {
      "cell_type": "code",
      "execution_count": 123,
      "metadata": {
        "id": "uaBLfuBgaeoJ",
        "colab": {
          "base_uri": "https://localhost:8080/",
          "height": 279
        },
        "outputId": "44163c19-ef0b-4687-e44d-bf85c2b71f28"
      },
      "outputs": [
        {
          "output_type": "display_data",
          "data": {
            "text/plain": [
              "<Figure size 432x288 with 1 Axes>"
            ],
            "image/png": "[encoded data removed]"
          },
          "metadata": {
            "needs_background": "light"
          }
        }
      ],
      "source": [
        "precision, recall, _ = precision_recall_curve(y_test, pred)\n",
        "disp = PrecisionRecallDisplay(precision=precision, recall=recall)\n",
        "disp.plot()\n",
        "plt.show()"
      ]
    },
    {
      "cell_type": "code",
      "execution_count": 124,
      "metadata": {
        "id": "4Qfa7HM4azzs",
        "colab": {
          "base_uri": "https://localhost:8080/"
        },
        "outputId": "cf982fb2-3490-483f-a6b2-190071232513"
      },
      "outputs": [
        {
          "output_type": "execute_result",
          "data": {
            "text/plain": [
              "SVC()"
            ]
          },
          "metadata": {},
          "execution_count": 124
        }
      ],
      "source": [
        "#svm\n",
        "from sklearn.svm import SVC\n",
        "classifier=SVC()\n",
        "classifier.fit(x_train,y_train)"
      ]
    },
    {
      "cell_type": "code",
      "execution_count": 125,
      "metadata": {
        "id": "eNJJTCEwa2D3"
      },
      "outputs": [],
      "source": [
        "pred=classifier.predict(x_test)"
      ]
    },
    {
      "cell_type": "code",
      "execution_count": 126,
      "metadata": {
        "id": "RwpfpU7Ia4DI",
        "colab": {
          "base_uri": "https://localhost:8080/"
        },
        "outputId": "6db0ee96-ab7d-46d0-ff86-0bcb1a1828dd"
      },
      "outputs": [
        {
          "output_type": "execute_result",
          "data": {
            "text/plain": [
              "0.5778920308483291"
            ]
          },
          "metadata": {},
          "execution_count": 126
        }
      ],
      "source": [
        "from sklearn.metrics import accuracy_score\n",
        "accuracy_score(pred,y_test)"
      ]
    },
    {
      "cell_type": "code",
      "execution_count": 127,
      "metadata": {
        "id": "WVCPnJqQeB4n",
        "colab": {
          "base_uri": "https://localhost:8080/"
        },
        "outputId": "05e5fe51-4f34-4b60-a84d-5d5efb4c69d5"
      },
      "outputs": [
        {
          "output_type": "execute_result",
          "data": {
            "text/plain": [
              "array([[929,  44],\n",
              "       [777, 195]])"
            ]
          },
          "metadata": {},
          "execution_count": 127
        }
      ],
      "source": [
        "from sklearn.metrics import confusion_matrix\n",
        "confusion_matrix(y_test,pred)"
      ]
    },
    {
      "cell_type": "code",
      "execution_count": 128,
      "metadata": {
        "id": "v4wM7aa8eD2K",
        "colab": {
          "base_uri": "https://localhost:8080/"
        },
        "outputId": "0e43d603-cc43-4881-c837-ead1f9dc8e85"
      },
      "outputs": [
        {
          "output_type": "stream",
          "name": "stdout",
          "text": [
            "              precision    recall  f1-score   support\n",
            "\n",
            "           0       0.54      0.95      0.69       973\n",
            "           1       0.82      0.20      0.32       972\n",
            "\n",
            "    accuracy                           0.58      1945\n",
            "   macro avg       0.68      0.58      0.51      1945\n",
            "weighted avg       0.68      0.58      0.51      1945\n",
            "\n"
          ]
        }
      ],
      "source": [
        "from sklearn.metrics import classification_report\n",
        "targets=['0','1']\n",
        "print(classification_report(y_test,pred,target_names=targets))"
      ]
    },
    {
      "cell_type": "code",
      "execution_count": 129,
      "metadata": {
        "id": "cloB_IjReFxl",
        "colab": {
          "base_uri": "https://localhost:8080/",
          "height": 279
        },
        "outputId": "d5e5f676-4046-4432-b6b3-e2e7ada3adb7"
      },
      "outputs": [
        {
          "output_type": "display_data",
          "data": {
            "text/plain": [
              "<Figure size 432x288 with 1 Axes>"
            ],
            "image/png": "[encoded data removed]"
          },
          "metadata": {
            "needs_background": "light"
          }
        }
      ],
      "source": [
        "fpr, tpr, _ = metrics.roc_curve(y_test,pred)\n",
        "\n",
        "plt.plot(fpr,tpr)\n",
        "plt.ylabel('True Positive Rate')\n",
        "plt.xlabel('False Positive Rate')\n",
        "plt.show()"
      ]
    },
    {
      "cell_type": "code",
      "execution_count": 130,
      "metadata": {
        "id": "c7NJfzt_eH_-",
        "colab": {
          "base_uri": "https://localhost:8080/",
          "height": 279
        },
        "outputId": "a0b76dc1-ae62-40ca-93ba-47f45faea426"
      },
      "outputs": [
        {
          "output_type": "display_data",
          "data": {
            "text/plain": [
              "<Figure size 432x288 with 1 Axes>"
            ],
            "image/png": "[encoded data removed]"
          },
          "metadata": {
            "needs_background": "light"
          }
        }
      ],
      "source": [
        "auc = metrics.roc_auc_score(y_test,pred)\n",
        "\n",
        "plt.plot(fpr,tpr,label=\"AUC=\"+str(auc))\n",
        "plt.ylabel('True Positive Rate')\n",
        "plt.xlabel('False Positive Rate')\n",
        "plt.legend(loc=4)\n",
        "plt.show()"
      ]
    },
    {
      "cell_type": "code",
      "execution_count": 131,
      "metadata": {
        "id": "49RY61zAeKIw",
        "colab": {
          "base_uri": "https://localhost:8080/",
          "height": 279
        },
        "outputId": "d018194c-416f-41c7-9bf5-9d35d5f9e4c7"
      },
      "outputs": [
        {
          "output_type": "display_data",
          "data": {
            "text/plain": [
              "<Figure size 432x288 with 1 Axes>"
            ],
            "image/png": "[encoded data removed]"
          },
          "metadata": {
            "needs_background": "light"
          }
        }
      ],
      "source": [
        "precision, recall, _ = precision_recall_curve(y_test, pred)\n",
        "disp = PrecisionRecallDisplay(precision=precision, recall=recall)\n",
        "disp.plot()\n",
        "plt.show()"
      ]
    },
    {
      "cell_type": "code",
      "execution_count": 132,
      "metadata": {
        "id": "v5CXdENFeMKb",
        "colab": {
          "base_uri": "https://localhost:8080/"
        },
        "outputId": "714d42ba-d92d-444f-f146-5276f5f699e3"
      },
      "outputs": [
        {
          "output_type": "execute_result",
          "data": {
            "text/plain": [
              "RandomForestClassifier(criterion='entropy', n_estimators=10)"
            ]
          },
          "metadata": {},
          "execution_count": 132
        }
      ],
      "source": [
        "#random forest\n",
        "from sklearn.ensemble import RandomForestClassifier  \n",
        "classifier= RandomForestClassifier(n_estimators= 10, criterion=\"entropy\")  \n",
        "classifier.fit(x_train, y_train)  "
      ]
    },
    {
      "cell_type": "code",
      "execution_count": 133,
      "metadata": {
        "id": "mc1_VPISePSG"
      },
      "outputs": [],
      "source": [
        "pred=classifier.predict(x_test)"
      ]
    },
    {
      "cell_type": "code",
      "execution_count": 134,
      "metadata": {
        "id": "y2J4Ui3MeR6v",
        "colab": {
          "base_uri": "https://localhost:8080/"
        },
        "outputId": "ff0c6c99-5431-4028-e854-91dc726298be"
      },
      "outputs": [
        {
          "output_type": "execute_result",
          "data": {
            "text/plain": [
              "0.5778920308483291"
            ]
          },
          "metadata": {},
          "execution_count": 134
        }
      ],
      "source": [
        "from sklearn.metrics import accuracy_score\n",
        "accuracy_score(pred,y_test)"
      ]
    },
    {
      "cell_type": "code",
      "execution_count": 135,
      "metadata": {
        "id": "yrdNzAR_ecvH",
        "colab": {
          "base_uri": "https://localhost:8080/"
        },
        "outputId": "b8a1d113-4e0c-4ff0-89a2-dbf5ef949443"
      },
      "outputs": [
        {
          "output_type": "execute_result",
          "data": {
            "text/plain": [
              "array([[929,  44],\n",
              "       [777, 195]])"
            ]
          },
          "metadata": {},
          "execution_count": 135
        }
      ],
      "source": [
        "from sklearn.metrics import confusion_matrix\n",
        "confusion_matrix(y_test,pred)"
      ]
    },
    {
      "cell_type": "code",
      "execution_count": 136,
      "metadata": {
        "id": "_3O7dPr8efCV",
        "colab": {
          "base_uri": "https://localhost:8080/"
        },
        "outputId": "f7aa02dc-831d-48d7-cb98-e194fdd9d1d9"
      },
      "outputs": [
        {
          "output_type": "stream",
          "name": "stdout",
          "text": [
            "              precision    recall  f1-score   support\n",
            "\n",
            "           0       0.54      0.95      0.69       973\n",
            "           1       0.82      0.20      0.32       972\n",
            "\n",
            "    accuracy                           0.58      1945\n",
            "   macro avg       0.68      0.58      0.51      1945\n",
            "weighted avg       0.68      0.58      0.51      1945\n",
            "\n"
          ]
        }
      ],
      "source": [
        "from sklearn.metrics import classification_report\n",
        "targets=['0','1']\n",
        "print(classification_report(y_test,pred,target_names=targets))"
      ]
    },
    {
      "cell_type": "code",
      "execution_count": 137,
      "metadata": {
        "id": "nVUgcjWVeh_S",
        "colab": {
          "base_uri": "https://localhost:8080/",
          "height": 279
        },
        "outputId": "2834a288-2ee9-4104-ff3b-5dce4f0b5e76"
      },
      "outputs": [
        {
          "output_type": "display_data",
          "data": {
            "text/plain": [
              "<Figure size 432x288 with 1 Axes>"
            ],
            "image/png": "[encoded data removed]"
          },
          "metadata": {
            "needs_background": "light"
          }
        }
      ],
      "source": [
        "fpr, tpr, _ = metrics.roc_curve(y_test,pred)\n",
        "\n",
        "plt.plot(fpr,tpr)\n",
        "plt.ylabel('True Positive Rate')\n",
        "plt.xlabel('False Positive Rate')\n",
        "plt.show()"
      ]
    },
    {
      "cell_type": "code",
      "execution_count": 138,
      "metadata": {
        "id": "8F29O0rDej0f",
        "colab": {
          "base_uri": "https://localhost:8080/",
          "height": 279
        },
        "outputId": "3b2eb4b3-f187-4669-9e15-cde360b569d9"
      },
      "outputs": [
        {
          "output_type": "display_data",
          "data": {
            "text/plain": [
              "<Figure size 432x288 with 1 Axes>"
            ],
            "image/png": "[encoded data removed]"
          },
          "metadata": {
            "needs_background": "light"
          }
        }
      ],
      "source": [
        "auc = metrics.roc_auc_score(y_test,pred)\n",
        "\n",
        "plt.plot(fpr,tpr,label=\"AUC=\"+str(auc))\n",
        "plt.ylabel('True Positive Rate')\n",
        "plt.xlabel('False Positive Rate')\n",
        "plt.legend(loc=4)\n",
        "plt.show()"
      ]
    },
    {
      "cell_type": "code",
      "execution_count": 139,
      "metadata": {
        "id": "7taa0aXgelYd",
        "colab": {
          "base_uri": "https://localhost:8080/",
          "height": 279
        },
        "outputId": "a13b9d46-4e44-4e20-a5e2-34aa4a0edffb"
      },
      "outputs": [
        {
          "output_type": "display_data",
          "data": {
            "text/plain": [
              "<Figure size 432x288 with 1 Axes>"
            ],
            "image/png": "[encoded data removed]"
          },
          "metadata": {
            "needs_background": "light"
          }
        }
      ],
      "source": [
        "\n",
        "precision, recall, _ = precision_recall_curve(y_test, pred)\n",
        "disp = PrecisionRecallDisplay(precision=precision, recall=recall)\n",
        "disp.plot()\n",
        "plt.show()"
      ]
    },
    {
      "cell_type": "code",
      "execution_count": 140,
      "metadata": {
        "id": "CplkLhCcenBS",
        "colab": {
          "base_uri": "https://localhost:8080/"
        },
        "outputId": "fc2d7143-3cbf-4e77-e9ed-75935fc90fdb"
      },
      "outputs": [
        {
          "output_type": "execute_result",
          "data": {
            "text/plain": [
              "LogisticRegression()"
            ]
          },
          "metadata": {},
          "execution_count": 140
        }
      ],
      "source": [
        "#logistic regression\n",
        "from sklearn.linear_model import LogisticRegression  \n",
        "classifier= LogisticRegression()  \n",
        "classifier.fit(x_train, y_train)  "
      ]
    },
    {
      "cell_type": "code",
      "execution_count": 141,
      "metadata": {
        "id": "6uWDo-9SfIad"
      },
      "outputs": [],
      "source": [
        "pred=classifier.predict(x_test)"
      ]
    },
    {
      "cell_type": "code",
      "execution_count": 142,
      "metadata": {
        "id": "N1X_SJmMerVG",
        "colab": {
          "base_uri": "https://localhost:8080/"
        },
        "outputId": "4bac16a5-f8d8-4f0b-b576-ef9bf0fc1a76"
      },
      "outputs": [
        {
          "output_type": "execute_result",
          "data": {
            "text/plain": [
              "0.5778920308483291"
            ]
          },
          "metadata": {},
          "execution_count": 142
        }
      ],
      "source": [
        "from sklearn.metrics import accuracy_score\n",
        "accuracy_score(pred,y_test)"
      ]
    },
    {
      "cell_type": "code",
      "execution_count": 143,
      "metadata": {
        "id": "dypiZdp4e_PL",
        "colab": {
          "base_uri": "https://localhost:8080/"
        },
        "outputId": "d2ef2711-c15d-4643-fb96-cc3db2baea7a"
      },
      "outputs": [
        {
          "output_type": "execute_result",
          "data": {
            "text/plain": [
              "array([[929,  44],\n",
              "       [777, 195]])"
            ]
          },
          "metadata": {},
          "execution_count": 143
        }
      ],
      "source": [
        "from sklearn.metrics import confusion_matrix\n",
        "confusion_matrix(y_test,pred)"
      ]
    },
    {
      "cell_type": "code",
      "execution_count": 144,
      "metadata": {
        "id": "vtdwUsfVfM9J",
        "colab": {
          "base_uri": "https://localhost:8080/"
        },
        "outputId": "7b4adcab-ab84-4899-b926-9f18d46e8da9"
      },
      "outputs": [
        {
          "output_type": "stream",
          "name": "stdout",
          "text": [
            "              precision    recall  f1-score   support\n",
            "\n",
            "           0       0.54      0.95      0.69       973\n",
            "           1       0.82      0.20      0.32       972\n",
            "\n",
            "    accuracy                           0.58      1945\n",
            "   macro avg       0.68      0.58      0.51      1945\n",
            "weighted avg       0.68      0.58      0.51      1945\n",
            "\n"
          ]
        }
      ],
      "source": [
        "from sklearn.metrics import classification_report\n",
        "targets=['0','1']\n",
        "print(classification_report(y_test,pred,target_names=targets))"
      ]
    },
    {
      "cell_type": "code",
      "execution_count": 145,
      "metadata": {
        "id": "fiz8z1ujfO_Y",
        "colab": {
          "base_uri": "https://localhost:8080/",
          "height": 279
        },
        "outputId": "9ab9266a-e231-4d09-9614-4fd2d4d97e76"
      },
      "outputs": [
        {
          "output_type": "display_data",
          "data": {
            "text/plain": [
              "<Figure size 432x288 with 1 Axes>"
            ],
            "image/png": "[encoded data removed]"
          },
          "metadata": {
            "needs_background": "light"
          }
        }
      ],
      "source": [
        "fpr, tpr, _ = metrics.roc_curve(y_test,pred)\n",
        "plt.plot(fpr,tpr)\n",
        "plt.ylabel('True Positive Rate')\n",
        "plt.xlabel('False Positive Rate')\n",
        "plt.show()"
      ]
    },
    {
      "cell_type": "code",
      "execution_count": 146,
      "metadata": {
        "id": "XP6bgkPhf1us",
        "colab": {
          "base_uri": "https://localhost:8080/",
          "height": 279
        },
        "outputId": "0e97e526-59cd-4e0c-f0ba-fe429f7325aa"
      },
      "outputs": [
        {
          "output_type": "display_data",
          "data": {
            "text/plain": [
              "<Figure size 432x288 with 1 Axes>"
            ],
            "image/png": "[encoded data removed]"
          },
          "metadata": {
            "needs_background": "light"
          }
        }
      ],
      "source": [
        "auc = metrics.roc_auc_score(y_test,pred)\n",
        "\n",
        "plt.plot(fpr,tpr,label=\"AUC=\"+str(auc))\n",
        "plt.ylabel('True Positive Rate')\n",
        "plt.xlabel('False Positive Rate')\n",
        "plt.legend(loc=4)\n",
        "plt.show()"
      ]
    },
    {
      "cell_type": "code",
      "execution_count": 147,
      "metadata": {
        "id": "MI9FUWRuf5oT",
        "colab": {
          "base_uri": "https://localhost:8080/",
          "height": 279
        },
        "outputId": "99256b10-ed66-425b-c85b-a252467ffcc5"
      },
      "outputs": [
        {
          "output_type": "display_data",
          "data": {
            "text/plain": [
              "<Figure size 432x288 with 1 Axes>"
            ],
            "image/png": "[encoded data removed]"
          },
          "metadata": {
            "needs_background": "light"
          }
        }
      ],
      "source": [
        "precision, recall, _ = precision_recall_curve(y_test, pred)\n",
        "disp = PrecisionRecallDisplay(precision=precision, recall=recall)\n",
        "disp.plot()\n",
        "plt.show()"
      ]
    },
    {
      "cell_type": "code",
      "execution_count": 148,
      "metadata": {
        "id": "GtfaB-dof7vj",
        "colab": {
          "base_uri": "https://localhost:8080/"
        },
        "outputId": "f3f8a142-7b76-46cd-f125-27c105f0b44b"
      },
      "outputs": [
        {
          "output_type": "execute_result",
          "data": {
            "text/plain": [
              "GaussianNB()"
            ]
          },
          "metadata": {},
          "execution_count": 148
        }
      ],
      "source": [
        "#Naive bayes\n",
        "from sklearn.naive_bayes import GaussianNB  \n",
        "classifier = GaussianNB()  \n",
        "classifier.fit(x_train, y_train)  "
      ]
    },
    {
      "cell_type": "code",
      "execution_count": 149,
      "metadata": {
        "id": "nqleCRQNf-K4"
      },
      "outputs": [],
      "source": [
        "pred=classifier.predict(x_test)"
      ]
    },
    {
      "cell_type": "code",
      "execution_count": 150,
      "metadata": {
        "id": "dRBo174YgHmD",
        "colab": {
          "base_uri": "https://localhost:8080/"
        },
        "outputId": "82e7197b-8161-4770-88ba-e08f020d04de"
      },
      "outputs": [
        {
          "output_type": "execute_result",
          "data": {
            "text/plain": [
              "0.5778920308483291"
            ]
          },
          "metadata": {},
          "execution_count": 150
        }
      ],
      "source": [
        "from sklearn.metrics import accuracy_score\n",
        "accuracy_score(pred,y_test)"
      ]
    },
    {
      "cell_type": "code",
      "execution_count": 151,
      "metadata": {
        "id": "EAe1c_IdgJqo",
        "colab": {
          "base_uri": "https://localhost:8080/"
        },
        "outputId": "b917947f-f471-454d-b7bb-bdc08b18fe5a"
      },
      "outputs": [
        {
          "output_type": "execute_result",
          "data": {
            "text/plain": [
              "array([[929,  44],\n",
              "       [777, 195]])"
            ]
          },
          "metadata": {},
          "execution_count": 151
        }
      ],
      "source": [
        "from sklearn.metrics import confusion_matrix\n",
        "confusion_matrix(y_test,pred)"
      ]
    },
    {
      "cell_type": "code",
      "execution_count": 152,
      "metadata": {
        "id": "PuqPEs4wgLHo",
        "colab": {
          "base_uri": "https://localhost:8080/"
        },
        "outputId": "549d4c5a-a438-4782-9c54-3e6a91e9311c"
      },
      "outputs": [
        {
          "output_type": "stream",
          "name": "stdout",
          "text": [
            "              precision    recall  f1-score   support\n",
            "\n",
            "           0       0.54      0.95      0.69       973\n",
            "           1       0.82      0.20      0.32       972\n",
            "\n",
            "    accuracy                           0.58      1945\n",
            "   macro avg       0.68      0.58      0.51      1945\n",
            "weighted avg       0.68      0.58      0.51      1945\n",
            "\n"
          ]
        }
      ],
      "source": [
        "from sklearn.metrics import classification_report\n",
        "targets=['0','1']\n",
        "print(classification_report(y_test,pred,target_names=targets))"
      ]
    },
    {
      "cell_type": "code",
      "execution_count": 153,
      "metadata": {
        "id": "qu5lQdPegMfd",
        "colab": {
          "base_uri": "https://localhost:8080/",
          "height": 279
        },
        "outputId": "8635bc95-b8e4-4ecf-9f92-470b10059b83"
      },
      "outputs": [
        {
          "output_type": "display_data",
          "data": {
            "text/plain": [
              "<Figure size 432x288 with 1 Axes>"
            ],
            "image/png": "[encoded data removed]"
          },
          "metadata": {
            "needs_background": "light"
          }
        }
      ],
      "source": [
        "fpr, tpr, _ = metrics.roc_curve(y_test,pred)\n",
        "plt.plot(fpr,tpr)\n",
        "plt.ylabel('True Positive Rate')\n",
        "plt.xlabel('False Positive Rate')\n",
        "plt.show()"
      ]
    },
    {
      "cell_type": "code",
      "execution_count": 154,
      "metadata": {
        "id": "BDH0VotzgOap",
        "colab": {
          "base_uri": "https://localhost:8080/",
          "height": 279
        },
        "outputId": "82ab3fa4-5068-4684-c500-e7ad3069b0a4"
      },
      "outputs": [
        {
          "output_type": "display_data",
          "data": {
            "text/plain": [
              "<Figure size 432x288 with 1 Axes>"
            ],
            "image/png": "[encoded data removed]"
          },
          "metadata": {
            "needs_background": "light"
          }
        }
      ],
      "source": [
        "auc = metrics.roc_auc_score(y_test,pred)\n",
        "\n",
        "plt.plot(fpr,tpr,label=\"AUC=\"+str(auc))\n",
        "plt.ylabel('True Positive Rate')\n",
        "plt.xlabel('False Positive Rate')\n",
        "plt.legend(loc=4)\n",
        "plt.show()"
      ]
    },
    {
      "cell_type": "code",
      "execution_count": 155,
      "metadata": {
        "id": "DJauEFPkgQY6",
        "colab": {
          "base_uri": "https://localhost:8080/",
          "height": 279
        },
        "outputId": "ad1b2d3a-d9a9-4c8d-f849-73e6b6e43d60"
      },
      "outputs": [
        {
          "output_type": "display_data",
          "data": {
            "text/plain": [
              "<Figure size 432x288 with 1 Axes>"
            ],
            "image/png": "[encoded data removed]"
          },
          "metadata": {
            "needs_background": "light"
          }
        }
      ],
      "source": [
        "precision, recall, _ = precision_recall_curve(y_test, pred)\n",
        "disp = PrecisionRecallDisplay(precision=precision, recall=recall)\n",
        "disp.plot()\n",
        "plt.show()"
      ]
    },
    {
      "cell_type": "code",
      "execution_count": 156,
      "metadata": {
        "id": "8jJnPyTDgaHd",
        "colab": {
          "base_uri": "https://localhost:8080/"
        },
        "outputId": "34eee7db-f803-40b4-fde2-2a5ff3c7febe"
      },
      "outputs": [
        {
          "output_type": "stream",
          "name": "stdout",
          "text": [
            "Looking in indexes: https://pypi.org/simple, https://us-python.pkg.dev/colab-wheels/public/simple/\n",
            "Requirement already satisfied: fuzzy-c-means in /usr/local/lib/python3.8/dist-packages (1.6.3)\n",
            "Requirement already satisfied: typer<0.4.0,>=0.3.2 in /usr/local/lib/python3.8/dist-packages (from fuzzy-c-means) (0.3.2)\n",
            "Requirement already satisfied: numpy<2.0.0,>=1.21.1 in /usr/local/lib/python3.8/dist-packages (from fuzzy-c-means) (1.21.6)\n",
            "Requirement already satisfied: pydantic<2.0.0,>=1.8.2 in /usr/local/lib/python3.8/dist-packages (from fuzzy-c-means) (1.10.4)\n",
            "Requirement already satisfied: tabulate<0.9.0,>=0.8.9 in /usr/local/lib/python3.8/dist-packages (from fuzzy-c-means) (0.8.10)\n",
            "Requirement already satisfied: typing-extensions>=4.2.0 in /usr/local/lib/python3.8/dist-packages (from pydantic<2.0.0,>=1.8.2->fuzzy-c-means) (4.4.0)\n",
            "Requirement already satisfied: click<7.2.0,>=7.1.1 in /usr/local/lib/python3.8/dist-packages (from typer<0.4.0,>=0.3.2->fuzzy-c-means) (7.1.2)\n"
          ]
        }
      ],
      "source": [
        "pip install fuzzy-c-means"
      ]
    },
    {
      "cell_type": "code",
      "execution_count": 157,
      "metadata": {
        "id": "0sbD7R1YgSSK"
      },
      "outputs": [],
      "source": [
        "#fuzzy\n",
        "from fcmeans import FCM\n",
        "classifier = FCM(n_clusters=2)\n",
        "classifier.fit(x)"
      ]
    },
    {
      "cell_type": "code",
      "execution_count": 158,
      "metadata": {
        "id": "k70DnCbjgUDA"
      },
      "outputs": [],
      "source": [
        "pred=classifier.predict(x_test)"
      ]
    },
    {
      "cell_type": "code",
      "execution_count": 159,
      "metadata": {
        "id": "6EFP9MwpgVq4",
        "colab": {
          "base_uri": "https://localhost:8080/"
        },
        "outputId": "5b33fddb-567a-4b61-c163-8751a450eae9"
      },
      "outputs": [
        {
          "output_type": "execute_result",
          "data": {
            "text/plain": [
              "0.4221079691516709"
            ]
          },
          "metadata": {},
          "execution_count": 159
        }
      ],
      "source": [
        "from sklearn.metrics import accuracy_score\n",
        "accuracy_score(pred,y_test)"
      ]
    },
    {
      "cell_type": "code",
      "execution_count": 160,
      "metadata": {
        "id": "MBAWUua3hkeN",
        "colab": {
          "base_uri": "https://localhost:8080/"
        },
        "outputId": "d04de176-e624-42d8-cf6a-a33045d0a9f8"
      },
      "outputs": [
        {
          "output_type": "execute_result",
          "data": {
            "text/plain": [
              "array([[ 44, 929],\n",
              "       [195, 777]])"
            ]
          },
          "metadata": {},
          "execution_count": 160
        }
      ],
      "source": [
        "from sklearn.metrics import confusion_matrix\n",
        "confusion_matrix(y_test,pred)"
      ]
    },
    {
      "cell_type": "code",
      "execution_count": 161,
      "metadata": {
        "id": "sM-txWRthnvX",
        "colab": {
          "base_uri": "https://localhost:8080/"
        },
        "outputId": "b99fda97-029f-411f-c707-bd3e4c53dd23"
      },
      "outputs": [
        {
          "output_type": "stream",
          "name": "stdout",
          "text": [
            "              precision    recall  f1-score   support\n",
            "\n",
            "           0       0.18      0.05      0.07       973\n",
            "           1       0.46      0.80      0.58       972\n",
            "\n",
            "    accuracy                           0.42      1945\n",
            "   macro avg       0.32      0.42      0.33      1945\n",
            "weighted avg       0.32      0.42      0.33      1945\n",
            "\n"
          ]
        }
      ],
      "source": [
        "from sklearn.metrics import classification_report\n",
        "targets=['0','1']\n",
        "print(classification_report(y_test,pred,target_names=targets))"
      ]
    },
    {
      "cell_type": "code",
      "execution_count": 162,
      "metadata": {
        "id": "pVY64Ol4hpvp",
        "colab": {
          "base_uri": "https://localhost:8080/",
          "height": 279
        },
        "outputId": "7205c456-d6fb-4eaf-ecad-a1c0d46d2bbf"
      },
      "outputs": [
        {
          "output_type": "display_data",
          "data": {
            "text/plain": [
              "<Figure size 432x288 with 1 Axes>"
            ],
            "image/png": "[encoded data removed]"
          },
          "metadata": {
            "needs_background": "light"
          }
        }
      ],
      "source": [
        "fpr, tpr, _ = metrics.roc_curve(y_test,pred)\n",
        "plt.plot(fpr,tpr)\n",
        "plt.ylabel('True Positive Rate')\n",
        "plt.xlabel('False Positive Rate')\n",
        "plt.show()"
      ]
    },
    {
      "cell_type": "code",
      "execution_count": 163,
      "metadata": {
        "id": "D7mppxVFhryA",
        "colab": {
          "base_uri": "https://localhost:8080/",
          "height": 279
        },
        "outputId": "691b1307-017c-4038-de97-196c8bfc23cf"
      },
      "outputs": [
        {
          "output_type": "display_data",
          "data": {
            "text/plain": [
              "<Figure size 432x288 with 1 Axes>"
            ],
            "image/png": "[encoded data removed]"
          },
          "metadata": {
            "needs_background": "light"
          }
        }
      ],
      "source": [
        "auc = metrics.roc_auc_score(y_test,pred)\n",
        "\n",
        "plt.plot(fpr,tpr,label=\"AUC=\"+str(auc))\n",
        "plt.ylabel('True Positive Rate')\n",
        "plt.xlabel('False Positive Rate')\n",
        "plt.legend(loc=4)\n",
        "plt.show()"
      ]
    },
    {
      "cell_type": "code",
      "execution_count": 164,
      "metadata": {
        "id": "-u5SHqYyhtgD",
        "colab": {
          "base_uri": "https://localhost:8080/",
          "height": 279
        },
        "outputId": "e34ae745-e9c5-41a5-8a73-afea6e8c1a2d"
      },
      "outputs": [
        {
          "output_type": "display_data",
          "data": {
            "text/plain": [
              "<Figure size 432x288 with 1 Axes>"
            ],
            "image/png": "[encoded data removed]"
          },
          "metadata": {
            "needs_background": "light"
          }
        }
      ],
      "source": [
        "precision, recall, _ = precision_recall_curve(y_test, pred)\n",
        "disp = PrecisionRecallDisplay(precision=precision, recall=recall)\n",
        "disp.plot()\n",
        "plt.show()"
      ]
    },
    {
      "cell_type": "code",
      "execution_count": 165,
      "metadata": {
        "id": "PMoLXCZbhxGG"
      },
      "outputs": [],
      "source": [
        "def new_models():\n",
        "  models = dict()\n",
        "  models['lr'] = LogisticRegression()\n",
        "  models['knn'] = KNeighborsClassifier()\n",
        "  models['dt'] = tree.DecisionTreeClassifier()\n",
        "  models['svm'] = SVC()\n",
        "  models['bayes'] = GaussianNB()\n",
        "  models['rf']=RandomForestClassifier()\n",
        "  models['stacking'] = new_stacking()\n",
        "  return models"
      ]
    },
    {
      "cell_type": "code",
      "execution_count": 166,
      "metadata": {
        "id": "wx3cVzTghyhJ"
      },
      "outputs": [],
      "source": [
        "from sklearn.ensemble import StackingClassifier\n",
        "def new_stacking():\n",
        "  level0 = list()\n",
        "  level0.append(('lr', LogisticRegression()))\n",
        "  level0.append(('knn', KNeighborsClassifier()))\n",
        "  level0.append(('dt', tree.DecisionTreeClassifier()))\n",
        "  level0.append(('svm', SVC()))\n",
        "  level0.append(('bayes', GaussianNB()))\n",
        "  level0.append(('rf',RandomForestClassifier() ))\n",
        "  level1 = LogisticRegression()\n",
        "  model = StackingClassifier(estimators=level0, final_estimator=level1, cv=6)\n",
        "  return model"
      ]
    },
    {
      "cell_type": "code",
      "execution_count": 167,
      "metadata": {
        "id": "uHXzpBdphz6s"
      },
      "outputs": [],
      "source": [
        "from sklearn.model_selection import RepeatedStratifiedKFold\n",
        "from sklearn.model_selection import cross_val_score\n",
        "def eval_model(model):\n",
        "  cv = RepeatedStratifiedKFold(n_splits=20, n_repeats=4, random_state=2)\n",
        "  scr = cross_val_score(model, X, Y, scoring='accuracy', cv=cv, n_jobs=-2, error_score='raise')\n",
        "  return scr"
      ]
    },
    {
      "cell_type": "code",
      "execution_count": 168,
      "metadata": {
        "id": "-LfYkFOBh1lj",
        "colab": {
          "base_uri": "https://localhost:8080/",
          "height": 386
        },
        "outputId": "ebbe001b-ebd1-468b-aa1f-201055fd319e"
      },
      "outputs": [
        {
          "output_type": "stream",
          "name": "stdout",
          "text": [
            ">lr 0.5721 (0.0130)\n",
            ">knn 0.5000 (0.0003)\n",
            ">dt 0.5721 (0.0130)\n",
            ">svm 0.5721 (0.0130)\n",
            ">bayes 0.5721 (0.0130)\n",
            ">rf 0.5721 (0.0130)\n",
            ">stacking 0.5721 (0.0130)\n"
          ]
        },
        {
          "output_type": "display_data",
          "data": {
            "text/plain": [
              "<Figure size 432x288 with 1 Axes>"
            ],
            "image/png": "[encoded data removed]"
          },
          "metadata": {
            "needs_background": "light"
          }
        }
      ],
      "source": [
        "from numpy import mean\n",
        "from numpy import std\n",
        "X=x\n",
        "Y=y\n",
        "models = new_models()\n",
        "results, names = list(), list()\n",
        "for name, model in models.items():\n",
        "  scr = eval_model(model)\n",
        "  results.append(scr)\n",
        "  names.append(name)\n",
        "  print('>%s %.4f (%.4f)' % (name, mean(scr), std(scr)))\n",
        "plt.boxplot(results, labels=names, showmeans=True)\n",
        "plt.show()"
      ]
    },
    {
      "cell_type": "code",
      "execution_count": 169,
      "metadata": {
        "id": "tw7N3X9Xh4Zq"
      },
      "outputs": [],
      "source": [
        "import tensorflow as tf\n",
        "ann = tf.keras.models.Sequential()"
      ]
    },
    {
      "cell_type": "code",
      "execution_count": 170,
      "metadata": {
        "id": "E3KsdB_hiniV"
      },
      "outputs": [],
      "source": [
        "ann.add(tf.keras.layers.Dense(units=6, activation='relu'))"
      ]
    },
    {
      "cell_type": "code",
      "execution_count": 171,
      "metadata": {
        "id": "ypY3NLhEirdG"
      },
      "outputs": [],
      "source": [
        "ann.add(tf.keras.layers.Dense(units=6, activation='relu'))"
      ]
    },
    {
      "cell_type": "code",
      "execution_count": 172,
      "metadata": {
        "id": "rDYXBR1Hit8b"
      },
      "outputs": [],
      "source": [
        "ann.add(tf.keras.layers.Dense(units=1, activation='sigmoid'))"
      ]
    },
    {
      "cell_type": "code",
      "source": [
        "ann.compile(optimizer = 'adam', loss = 'binary_crossentropy', metrics = ['accuracy'])\n"
      ],
      "metadata": {
        "id": "8bDTu_jY151L"
      },
      "execution_count": 173,
      "outputs": []
    },
    {
      "cell_type": "code",
      "source": [
        "ann.fit(x_train, y_train, batch_size = 32, epochs = 50)"
      ],
      "metadata": {
        "id": "sFGBD8B979KY",
        "colab": {
          "base_uri": "https://localhost:8080/"
        },
        "outputId": "8ca9ff7b-2a84-416a-d54f-c056ef2dbedf"
      },
      "execution_count": 174,
      "outputs": [
        {
          "output_type": "stream",
          "name": "stdout",
          "text": [
            "Epoch 1/50\n",
            "244/244 [==============================] - 2s 2ms/step - loss: 0.7031 - accuracy: 0.4288\n",
            "Epoch 2/50\n",
            "244/244 [==============================] - 1s 3ms/step - loss: 0.6938 - accuracy: 0.4711\n",
            "Epoch 3/50\n",
            "244/244 [==============================] - 1s 2ms/step - loss: 0.6932 - accuracy: 0.4989\n",
            "Epoch 4/50\n",
            "244/244 [==============================] - 1s 3ms/step - loss: 0.6932 - accuracy: 0.4886\n",
            "Epoch 5/50\n",
            "244/244 [==============================] - 1s 2ms/step - loss: 0.6932 - accuracy: 0.5011\n",
            "Epoch 6/50\n",
            "244/244 [==============================] - 0s 2ms/step - loss: 0.6932 - accuracy: 0.5001\n",
            "Epoch 7/50\n",
            "244/244 [==============================] - 0s 2ms/step - loss: 0.6932 - accuracy: 0.5001\n",
            "Epoch 8/50\n",
            "244/244 [==============================] - 0s 2ms/step - loss: 0.6932 - accuracy: 0.4967\n",
            "Epoch 9/50\n",
            "244/244 [==============================] - 0s 2ms/step - loss: 0.6932 - accuracy: 0.4958\n",
            "Epoch 10/50\n",
            "244/244 [==============================] - 0s 2ms/step - loss: 0.6932 - accuracy: 0.4968\n",
            "Epoch 11/50\n",
            "244/244 [==============================] - 0s 2ms/step - loss: 0.6932 - accuracy: 0.4916\n",
            "Epoch 12/50\n",
            "244/244 [==============================] - 0s 2ms/step - loss: 0.6932 - accuracy: 0.4947\n",
            "Epoch 13/50\n",
            "244/244 [==============================] - 0s 2ms/step - loss: 0.6932 - accuracy: 0.4903\n",
            "Epoch 14/50\n",
            "244/244 [==============================] - 0s 2ms/step - loss: 0.6932 - accuracy: 0.5001\n",
            "Epoch 15/50\n",
            "244/244 [==============================] - 0s 2ms/step - loss: 0.6932 - accuracy: 0.4939\n",
            "Epoch 16/50\n",
            "244/244 [==============================] - 0s 2ms/step - loss: 0.6932 - accuracy: 0.5001\n",
            "Epoch 17/50\n",
            "244/244 [==============================] - 0s 2ms/step - loss: 0.6932 - accuracy: 0.4896\n",
            "Epoch 18/50\n",
            "244/244 [==============================] - 0s 2ms/step - loss: 0.6932 - accuracy: 0.5034\n",
            "Epoch 19/50\n",
            "244/244 [==============================] - 0s 1ms/step - loss: 0.6932 - accuracy: 0.4854\n",
            "Epoch 20/50\n",
            "244/244 [==============================] - 0s 2ms/step - loss: 0.6932 - accuracy: 0.4977\n",
            "Epoch 21/50\n",
            "244/244 [==============================] - 0s 2ms/step - loss: 0.6932 - accuracy: 0.5001\n",
            "Epoch 22/50\n",
            "244/244 [==============================] - 0s 2ms/step - loss: 0.6932 - accuracy: 0.4917\n",
            "Epoch 23/50\n",
            "244/244 [==============================] - 0s 2ms/step - loss: 0.6932 - accuracy: 0.4925\n",
            "Epoch 24/50\n",
            "244/244 [==============================] - 0s 2ms/step - loss: 0.6932 - accuracy: 0.4999\n",
            "Epoch 25/50\n",
            "244/244 [==============================] - 1s 2ms/step - loss: 0.6932 - accuracy: 0.4999\n",
            "Epoch 26/50\n",
            "244/244 [==============================] - 0s 2ms/step - loss: 0.6932 - accuracy: 0.4993\n",
            "Epoch 27/50\n",
            "244/244 [==============================] - 0s 2ms/step - loss: 0.6932 - accuracy: 0.4927\n",
            "Epoch 28/50\n",
            "244/244 [==============================] - 1s 3ms/step - loss: 0.6932 - accuracy: 0.4999\n",
            "Epoch 29/50\n",
            "244/244 [==============================] - 1s 2ms/step - loss: 0.6932 - accuracy: 0.4963\n",
            "Epoch 30/50\n",
            "244/244 [==============================] - 1s 2ms/step - loss: 0.6932 - accuracy: 0.4980\n",
            "Epoch 31/50\n",
            "244/244 [==============================] - 1s 2ms/step - loss: 0.6932 - accuracy: 0.4990\n",
            "Epoch 32/50\n",
            "244/244 [==============================] - 0s 2ms/step - loss: 0.6932 - accuracy: 0.5007\n",
            "Epoch 33/50\n",
            "244/244 [==============================] - 0s 2ms/step - loss: 0.6932 - accuracy: 0.4947\n",
            "Epoch 34/50\n",
            "244/244 [==============================] - 0s 2ms/step - loss: 0.6932 - accuracy: 0.4971\n",
            "Epoch 35/50\n",
            "244/244 [==============================] - 0s 2ms/step - loss: 0.6932 - accuracy: 0.4975\n",
            "Epoch 36/50\n",
            "244/244 [==============================] - 0s 2ms/step - loss: 0.6932 - accuracy: 0.4914\n",
            "Epoch 37/50\n",
            "244/244 [==============================] - 0s 2ms/step - loss: 0.6932 - accuracy: 0.4999\n",
            "Epoch 38/50\n",
            "244/244 [==============================] - 0s 1ms/step - loss: 0.6932 - accuracy: 0.4968\n",
            "Epoch 39/50\n",
            "244/244 [==============================] - 0s 2ms/step - loss: 0.6932 - accuracy: 0.4893\n",
            "Epoch 40/50\n",
            "244/244 [==============================] - 0s 2ms/step - loss: 0.6932 - accuracy: 0.5001\n",
            "Epoch 41/50\n",
            "244/244 [==============================] - 0s 2ms/step - loss: 0.6932 - accuracy: 0.5001\n",
            "Epoch 42/50\n",
            "244/244 [==============================] - 0s 2ms/step - loss: 0.6932 - accuracy: 0.4902\n",
            "Epoch 43/50\n",
            "244/244 [==============================] - 0s 2ms/step - loss: 0.6932 - accuracy: 0.5006\n",
            "Epoch 44/50\n",
            "244/244 [==============================] - 0s 2ms/step - loss: 0.6932 - accuracy: 0.4997\n",
            "Epoch 45/50\n",
            "244/244 [==============================] - 0s 2ms/step - loss: 0.6932 - accuracy: 0.4999\n",
            "Epoch 46/50\n",
            "244/244 [==============================] - 0s 2ms/step - loss: 0.6932 - accuracy: 0.4945\n",
            "Epoch 47/50\n",
            "244/244 [==============================] - 1s 2ms/step - loss: 0.6932 - accuracy: 0.4949\n",
            "Epoch 48/50\n",
            "244/244 [==============================] - 0s 2ms/step - loss: 0.6932 - accuracy: 0.4944\n",
            "Epoch 49/50\n",
            "244/244 [==============================] - 0s 2ms/step - loss: 0.6932 - accuracy: 0.5001\n",
            "Epoch 50/50\n",
            "244/244 [==============================] - 0s 2ms/step - loss: 0.6932 - accuracy: 0.4952\n"
          ]
        },
        {
          "output_type": "execute_result",
          "data": {
            "text/plain": [
              "<keras.callbacks.History at 0x7fd710680a00>"
            ]
          },
          "metadata": {},
          "execution_count": 174
        }
      ]
    },
    {
      "cell_type": "code",
      "source": [
        "y_pred = ann.predict(x_test)"
      ],
      "metadata": {
        "id": "bcI5Gq0f8CAu",
        "colab": {
          "base_uri": "https://localhost:8080/"
        },
        "outputId": "0cfcb830-e016-4753-da84-323b89e58e3f"
      },
      "execution_count": 175,
      "outputs": [
        {
          "output_type": "stream",
          "name": "stdout",
          "text": [
            "61/61 [==============================] - 0s 1ms/step\n"
          ]
        }
      ]
    },
    {
      "cell_type": "code",
      "source": [
        "y_pred = (y_pred > 0.5)"
      ],
      "metadata": {
        "id": "p2y6G89z8SXT"
      },
      "execution_count": 176,
      "outputs": []
    },
    {
      "cell_type": "code",
      "source": [
        "import numpy as np\n",
        "print(np.concatenate((y_pred.reshape(len(y_pred),1), y_test.reshape(len(y_test),1)),1))"
      ],
      "metadata": {
        "id": "0QllRL698dIW",
        "colab": {
          "base_uri": "https://localhost:8080/"
        },
        "outputId": "567b58fe-d168-49a6-eca3-a0c96b26f3ff"
      },
      "execution_count": 177,
      "outputs": [
        {
          "output_type": "stream",
          "name": "stdout",
          "text": [
            "[[1 0]\n",
            " [1 1]\n",
            " [1 1]\n",
            " ...\n",
            " [1 1]\n",
            " [1 0]\n",
            " [1 0]]\n"
          ]
        }
      ]
    },
    {
      "cell_type": "code",
      "source": [
        "from sklearn.metrics import confusion_matrix, accuracy_score\n",
        "confusion_matrix(y_test, y_pred)\n"
      ],
      "metadata": {
        "id": "nQji2gFl8mMv",
        "colab": {
          "base_uri": "https://localhost:8080/"
        },
        "outputId": "0926e932-8a99-4dfe-d2bc-3607c6bc1918"
      },
      "execution_count": 178,
      "outputs": [
        {
          "output_type": "execute_result",
          "data": {
            "text/plain": [
              "array([[  0, 973],\n",
              "       [  0, 972]])"
            ]
          },
          "metadata": {},
          "execution_count": 178
        }
      ]
    },
    {
      "cell_type": "code",
      "source": [
        "accuracy_score(y_test, y_pred)"
      ],
      "metadata": {
        "id": "vfriKE8H8yzr",
        "colab": {
          "base_uri": "https://localhost:8080/"
        },
        "outputId": "f755b7b2-43e6-4d53-8150-8d039034a1d1"
      },
      "execution_count": 179,
      "outputs": [
        {
          "output_type": "execute_result",
          "data": {
            "text/plain": [
              "0.4997429305912596"
            ]
          },
          "metadata": {},
          "execution_count": 179
        }
      ]
    },
    {
      "cell_type": "code",
      "source": [
        "fpr, tpr, _ = metrics.roc_curve(y_test,pred)\n",
        "plt.plot(fpr,tpr)\n",
        "plt.ylabel('True Positive Rate')\n",
        "plt.xlabel('False Positive Rate')\n",
        "plt.show()"
      ],
      "metadata": {
        "id": "iwoiHLGE87eK",
        "colab": {
          "base_uri": "https://localhost:8080/",
          "height": 279
        },
        "outputId": "5559ca87-850d-4d04-b0c6-7fb55d9e4472"
      },
      "execution_count": 180,
      "outputs": [
        {
          "output_type": "display_data",
          "data": {
            "text/plain": [
              "<Figure size 432x288 with 1 Axes>"
            ],
            "image/png": "[encoded data removed]"
          },
          "metadata": {
            "needs_background": "light"
          }
        }
      ]
    },
    {
      "cell_type": "code",
      "source": [
        "auc = metrics.roc_auc_score(y_test,pred)\n",
        "\n",
        "plt.plot(fpr,tpr,label=\"AUC=\"+str(auc))\n",
        "plt.ylabel('True Positive Rate')\n",
        "plt.xlabel('False Positive Rate')\n",
        "plt.legend(loc=4)\n",
        "plt.show()"
      ],
      "metadata": {
        "id": "nRUssb8C9myp",
        "colab": {
          "base_uri": "https://localhost:8080/",
          "height": 279
        },
        "outputId": "dde15030-d061-4444-b156-6b361a87236e"
      },
      "execution_count": 181,
      "outputs": [
        {
          "output_type": "display_data",
          "data": {
            "text/plain": [
              "<Figure size 432x288 with 1 Axes>"
            ],
            "image/png": "[encoded data removed]"
          },
          "metadata": {
            "needs_background": "light"
          }
        }
      ]
    },
    {
      "cell_type": "code",
      "source": [
        "precision, recall, _ = precision_recall_curve(y_test, pred)\n",
        "disp = PrecisionRecallDisplay(precision=precision, recall=recall)\n",
        "disp.plot()\n",
        "plt.show()"
      ],
      "metadata": {
        "id": "OnVyTiOp90P3",
        "colab": {
          "base_uri": "https://localhost:8080/",
          "height": 279
        },
        "outputId": "967957ec-4999-4108-f7d3-901fad31e8fa"
      },
      "execution_count": 182,
      "outputs": [
        {
          "output_type": "display_data",
          "data": {
            "text/plain": [
              "<Figure size 432x288 with 1 Axes>"
            ],
            "image/png": "[encoded data removed]"
          },
          "metadata": {
            "needs_background": "light"
          }
        }
      ]
    }
  ]
}